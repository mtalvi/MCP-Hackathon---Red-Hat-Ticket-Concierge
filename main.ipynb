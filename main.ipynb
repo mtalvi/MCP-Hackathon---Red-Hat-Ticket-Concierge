{
 "cells": [
  {
   "cell_type": "code",
   "execution_count": 29,
   "metadata": {},
   "outputs": [],
   "source": [
    "import requests\n",
    "import json\n",
    "\n",
    "url = \"https://redhat.service-now.com/api/sn_sc/v1/servicecatalog/items/a4d32a92978299907d14f0f3a253af04/submit_producer\"\n",
    "\n",
    "headers = {\n",
    "    'Accept': 'application/json, text/plain, */*',\n",
    "    'Accept-Encoding': 'gzip, deflate, br, zstd',\n",
    "    'Accept-Language': 'en-GB,en-US;q=0.9,en;q=0.8',\n",
    "    'Content-Type': 'application/json;charset=UTF-8',\n",
    "    'Origin': 'https://redhat.service-now.com',\n",
    "    'Referer': 'https://redhat.service-now.com/help?id=sc_cat_item&sys_id=a4d32a92978299907d14f0f3a253af04&help_type=team_storage&locker_request_type=request_dedicated_locker',\n",
    "    'X-Transaction-Source': 'Interface=Web,Interface-Name=HELP,Interface-Type=Service Portal,Interface-SysID=518cc8391381db00dce03ff18144b009',\n",
    "    'X-Use-Polaris': 'false',\n",
    "    'X-UserToken': '8e27e359933122587df0bfbd1dba10f101a6992de9ae3f8a011e977ae91fe27ce0271a63',\n",
    "    'User-Agent': 'Mozilla/5.0 (X11; Linux x86_64) AppleWebKit/537.36 (KHTML, like Gecko) Chrome/136.0.0.0 Safari/537.36'\n",
    "}\n",
    "\n",
    "cookies = {\n",
    "    'BIGipServerpool_redhat': 'c6046cc0c0b394e313ba1f7301da472c',\n",
    "    'glide_node_id_for_js': '49d60ca9f5c58bfe6f7b414038e444bb347deed96d0841cb9e834df0baaa3f01', \n",
    "    'glide_session_store': '4E27E359933122587DF0BFBD1DBA10F1',\n",
    "    'glide_sso_id': '80188381db95eb80a16700b5ca961985',\n",
    "    'glide_user_activity': 'U0N2M18xOlo4ZXlIUVpuRnozdVYwaGlET3dTUGxoK3dmd3J0a2tJWkNzOEMvT3VheVU9OjRDWTcxdmllOTNCMGd6QjlCNzVXWTB4ZVJ6eG1vcXhvcjNOOENQaXNQd3M9',\n",
    "    'glide_user_route': 'glide.578b231312d45d082563807c0af6537f',\n",
    "    'JSESSIONID': 'E12EB2A4EEA71C8DB3B1763BE829F52E',\n",
    "    'vaChat': 'va-visited'\n",
    "}\n",
    "\n",
    "# Your payload from payload.json\n",
    "with open('payload.json', 'r') as f:\n",
    "    payload = json.load(f)\n",
    "\n",
    "response = requests.post(\n",
    "    url, \n",
    "    json=payload, \n",
    "    headers=headers, \n",
    "    cookies=cookies,\n",
    "    verify=True  # Keep SSL verification enabled\n",
    ")"
   ]
  },
  {
   "cell_type": "code",
   "execution_count": 30,
   "metadata": {},
   "outputs": [
    {
     "data": {
      "text/plain": [
       "b'{\"result\":{\"errMsg\":\"Record already exists.\"}}'"
      ]
     },
     "execution_count": 30,
     "metadata": {},
     "output_type": "execute_result"
    }
   ],
   "source": [
    "response.content"
   ]
  },
  {
   "cell_type": "code",
   "execution_count": null,
   "metadata": {},
   "outputs": [
    {
     "name": "stdout",
     "output_type": "stream",
     "text": [
      "Status: 200\n",
      "<!DOCTYPE html><html lang=\"en\" dir=\"ltr\" ng-app=\"sn.$sp\" ng-init=\"portal_id = '518cc8391381db00dce03ff18144b009'\" style=\"height: 100%\" class=\"page-{{page.sys_id}} v{{page.sys_id}} ltr sn-sp-page\" data-page-id=\"{{page.sys_id}}\"><head sp-metatags=\"\"><base href=\"/help\"></base><link rel=\"preload\" href=\"/styles/fonts/glyphicons-halflings-regular.woff2\" as=\"font\" crossorigin=\"anonymous\"></link><link rel=\"preload\" href=\"/scripts/icon-fonts/font-awesome/fonts/fontawesome-webfont.woff2?v=4.7.0\" as=\"font\" crossorigin=\"anonymous\"></link><title>Service Catalog - Employee Support</title><meta http-equiv=\"X-UA-Compatible\" content=\"IE=edge; IE=10\"></meta><meta name=\"viewport\" content=\"width=device-width, initial-scale=1.0\"></meta><meta name=\"apple-mobile-web-app-capable\" content=\"yes\"></meta><meta http-equiv=\"cache-control\" content=\"public\"></meta><meta http-equiv=\"cache-control\" content=\"no-cache\"></meta><meta http-equiv=\"cache-control\" content=\"max-age=0\"></meta><meta http-equiv=\"pragma\" content=\"n\n"
     ]
    }
   ],
   "source": [
    "# import json\n",
    "# import requests\n",
    "\n",
    "# # Load cookies from the exported JSON\n",
    "# with open(\"cookies.json\", \"r\") as f:\n",
    "#     cookie_list = json.load(f)\n",
    "\n",
    "# # Convert to requests-style cookie dict\n",
    "# cookies = {cookie['name']: cookie['value'] for cookie in cookie_list}\n",
    "\n",
    "# # Your target URL (same as in the browser)\n",
    "# url = \"https://redhat.service-now.com/help?id=sc_cat_item&sys_id=ac8b875a82822004c7185ae62325874\"\n",
    "\n",
    "# # Send GET request with your cookies\n",
    "# response = requests.get(url, cookies=cookies)\n",
    "\n",
    "# # Output the result (HTML content of the page)\n",
    "# print(\"Status:\", response.status_code)\n",
    "# print(response.text[:1000])  # Preview first 1000 characters\n"
   ]
  },
  {
   "cell_type": "code",
   "execution_count": null,
   "metadata": {},
   "outputs": [],
   "source": [
    "# import requests\n",
    "# import json\n",
    "\n",
    "# url = \"https://redhat.service-now.com/api/sn_sc/v1/servicecatalog/items/8093ddd4dbd80c10b29017594896198e/order_now\"\n",
    "# headers = {\n",
    "#     \"Server\": \"snow_adc\",\n",
    "#     \"Date\": \"Wed, 28 May 2025 12:57:32 GMT\",\n",
    "#     \"Content-Type\": \"application/json;charset=UTF-8\",\n",
    "#     \"Transfer-Encoding\": \"chunked\", \n",
    "#     \"Connection\": \"keep-alive\",\n",
    "#     \"Set-Cookie\": \"BIGipServerpool_redhat=c6046cc0c0b394e313ba1f7301da472c; httponly; secure; samesite=None; path=/\",\n",
    "#     \"Server-Timing\": \"sem_wait;dur=0, sesh_wait;dur=0\",\n",
    "#     \"Content-Encoding\": \"gzip\",\n",
    "#     \"Set-Cookie\": \"glide_node_id_for_js=49d60ca9f5c58bfe6f7b414038e444bb347deed96d0841cb9e834df0baaa3f01; Path=/; Secure; SameSite=None\",\n",
    "#     \"X-Is-Logged-In\": \"true\",\n",
    "#     \"X-Transaction-ID\": \"1c268869937d\",\n",
    "#     \"Set-Cookie\": \"glide_session_store=4E27E359933122587DF0BFBD1DBA10F1; Max-Age=36000; Expires=Wed, 28-May-2025 22:57:32 GMT; Path=/; HttpOnly; Secure; SameSite=None\",\n",
    "#     \"X-Content-Type-Options\": \"nosniff\",\n",
    "#     \"Pragma\": \"no-store,no-cache\",\n",
    "#     \"Cache-Control\": \"no-cache,no-store,must-revalidate,max-age=-1\",\n",
    "#     \"Expires\": \"0\",\n",
    "#     \"Strict-Transport-Security\": \"max-age=63072000; includeSubDomains\"\n",
    "# }\n",
    "\n",
    "# cookies = {\n",
    "#     'BIGipServerpool_redhat': 'c6046cc0c0b394e313ba1f7301da472c',\n",
    "#     'glide_node_id_for_js': '49d60ca9f5c58bfe6f7b414038e444bb347deed96d0841cb9e834df0baaa3f01', \n",
    "#     'glide_session_store': '4E27E359933122587DF0BFBD1DBA10F1',\n",
    "#     'glide_sso_id': '80188381db95eb80a16700b5ca961985',\n",
    "#     'glide_user_activity': 'U0N2M18xOlo4ZXlIUVpuRnozdVYwaGlET3dTUGxoK3dmd3J0a2tJWkNzOEMvT3VheVU9OjRDWTcxdmllOTNCMGd6QjlCNzVXWTB4ZVJ6eG1vcXhvcjNOOENQaXNQd3M9',\n",
    "#     'glide_user_route': 'glide.578b231312d45d082563807c0af6537f',\n",
    "#     'JSESSIONID': 'E12EB2A4EEA71C8DB3B1763BE829F52E',\n",
    "#     'vaChat': 'va-visited'\n",
    "# }\n",
    "\n",
    "# # Your payload from payload.json\n",
    "# with open('./payload/customer_portal_request.json', 'r') as f:\n",
    "#     payload = json.load(f)\n",
    "\n",
    "# response = requests.post(\n",
    "#     url, \n",
    "#     json=payload, \n",
    "#     headers=headers, \n",
    "#     cookies=cookies,\n",
    "#     verify=True  # Keep SSL verification enabled\n",
    "# )"
   ]
  },
  {
   "cell_type": "code",
   "execution_count": null,
   "metadata": {},
   "outputs": [],
   "source": []
  }
 ],
 "metadata": {
  "kernelspec": {
   "display_name": "we",
   "language": "python",
   "name": "python3"
  },
  "language_info": {
   "codemirror_mode": {
    "name": "ipython",
    "version": 3
   },
   "file_extension": ".py",
   "mimetype": "text/x-python",
   "name": "python",
   "nbconvert_exporter": "python",
   "pygments_lexer": "ipython3",
   "version": "3.11.11"
  }
 },
 "nbformat": 4,
 "nbformat_minor": 2
}
